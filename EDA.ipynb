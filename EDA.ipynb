{
 "cells": [
  {
   "cell_type": "code",
   "execution_count": 1,
   "id": "d80ebd89",
   "metadata": {},
   "outputs": [],
   "source": [
    "import pandas as pd\n",
    "import numpy as np\n",
    "\n",
    "import matplotlib.pyplot as plt\n",
    "import seaborn as sns"
   ]
  },
  {
   "cell_type": "markdown",
   "id": "5214399f",
   "metadata": {},
   "source": [
    "# Data"
   ]
  },
  {
   "cell_type": "markdown",
   "id": "86c1f782",
   "metadata": {},
   "source": [
    "Concatenate Data for EDA"
   ]
  },
  {
   "cell_type": "code",
   "execution_count": 2,
   "id": "3c980d22",
   "metadata": {},
   "outputs": [
    {
     "data": {
      "text/html": [
       "<div>\n",
       "<style scoped>\n",
       "    .dataframe tbody tr th:only-of-type {\n",
       "        vertical-align: middle;\n",
       "    }\n",
       "\n",
       "    .dataframe tbody tr th {\n",
       "        vertical-align: top;\n",
       "    }\n",
       "\n",
       "    .dataframe thead th {\n",
       "        text-align: right;\n",
       "    }\n",
       "</style>\n",
       "<table border=\"1\" class=\"dataframe\">\n",
       "  <thead>\n",
       "    <tr style=\"text-align: right;\">\n",
       "      <th></th>\n",
       "      <th>tweet_id</th>\n",
       "      <th>entity</th>\n",
       "      <th>sentiment</th>\n",
       "      <th>tweet</th>\n",
       "    </tr>\n",
       "  </thead>\n",
       "  <tbody>\n",
       "    <tr>\n",
       "      <th>0</th>\n",
       "      <td>2401</td>\n",
       "      <td>Borderlands</td>\n",
       "      <td>Positive</td>\n",
       "      <td>im getting on borderlands and i will murder yo...</td>\n",
       "    </tr>\n",
       "    <tr>\n",
       "      <th>1</th>\n",
       "      <td>2402</td>\n",
       "      <td>Borderlands</td>\n",
       "      <td>Positive</td>\n",
       "      <td>So I spent a few hours making something for fu...</td>\n",
       "    </tr>\n",
       "    <tr>\n",
       "      <th>2</th>\n",
       "      <td>2403</td>\n",
       "      <td>Borderlands</td>\n",
       "      <td>Neutral</td>\n",
       "      <td>Rock-Hard La Varlope, RARE &amp; POWERFUL, HANDSOM...</td>\n",
       "    </tr>\n",
       "    <tr>\n",
       "      <th>3</th>\n",
       "      <td>2404</td>\n",
       "      <td>Borderlands</td>\n",
       "      <td>Positive</td>\n",
       "      <td>that was the first borderlands session in a lo...</td>\n",
       "    </tr>\n",
       "    <tr>\n",
       "      <th>4</th>\n",
       "      <td>2405</td>\n",
       "      <td>Borderlands</td>\n",
       "      <td>Negative</td>\n",
       "      <td>the biggest dissappoinment in my life came out...</td>\n",
       "    </tr>\n",
       "    <tr>\n",
       "      <th>...</th>\n",
       "      <td>...</td>\n",
       "      <td>...</td>\n",
       "      <td>...</td>\n",
       "      <td>...</td>\n",
       "    </tr>\n",
       "    <tr>\n",
       "      <th>12442</th>\n",
       "      <td>9196</td>\n",
       "      <td>Nvidia</td>\n",
       "      <td>Negative</td>\n",
       "      <td>Cheap doesn't mean better btw! . . techsall.co...</td>\n",
       "    </tr>\n",
       "    <tr>\n",
       "      <th>12443</th>\n",
       "      <td>9197</td>\n",
       "      <td>Nvidia</td>\n",
       "      <td>Neutral</td>\n",
       "      <td>Nvidia doesn’t want to give up its 2017 ‘crypt...</td>\n",
       "    </tr>\n",
       "    <tr>\n",
       "      <th>12444</th>\n",
       "      <td>9198</td>\n",
       "      <td>Nvidia</td>\n",
       "      <td>Negative</td>\n",
       "      <td>Nvidia really delayed the 3070 2 weeks .</td>\n",
       "    </tr>\n",
       "    <tr>\n",
       "      <th>12445</th>\n",
       "      <td>9199</td>\n",
       "      <td>Nvidia</td>\n",
       "      <td>Positive</td>\n",
       "      <td>Let no elim go unnoticed. . . . NVIDIA Highlig...</td>\n",
       "    </tr>\n",
       "    <tr>\n",
       "      <th>12446</th>\n",
       "      <td>9200</td>\n",
       "      <td>Nvidia</td>\n",
       "      <td>Positive</td>\n",
       "      <td>Just realized the windows partition of my Mac ...</td>\n",
       "    </tr>\n",
       "  </tbody>\n",
       "</table>\n",
       "<p>12447 rows × 4 columns</p>\n",
       "</div>"
      ],
      "text/plain": [
       "       tweet_id       entity sentiment  \\\n",
       "0          2401  Borderlands  Positive   \n",
       "1          2402  Borderlands  Positive   \n",
       "2          2403  Borderlands   Neutral   \n",
       "3          2404  Borderlands  Positive   \n",
       "4          2405  Borderlands  Negative   \n",
       "...         ...          ...       ...   \n",
       "12442      9196       Nvidia  Negative   \n",
       "12443      9197       Nvidia   Neutral   \n",
       "12444      9198       Nvidia  Negative   \n",
       "12445      9199       Nvidia  Positive   \n",
       "12446      9200       Nvidia  Positive   \n",
       "\n",
       "                                                   tweet  \n",
       "0      im getting on borderlands and i will murder yo...  \n",
       "1      So I spent a few hours making something for fu...  \n",
       "2      Rock-Hard La Varlope, RARE & POWERFUL, HANDSOM...  \n",
       "3      that was the first borderlands session in a lo...  \n",
       "4      the biggest dissappoinment in my life came out...  \n",
       "...                                                  ...  \n",
       "12442  Cheap doesn't mean better btw! . . techsall.co...  \n",
       "12443  Nvidia doesn’t want to give up its 2017 ‘crypt...  \n",
       "12444          Nvidia really delayed the 3070 2 weeks .   \n",
       "12445  Let no elim go unnoticed. . . . NVIDIA Highlig...  \n",
       "12446  Just realized the windows partition of my Mac ...  \n",
       "\n",
       "[12447 rows x 4 columns]"
      ]
     },
     "execution_count": 2,
     "metadata": {},
     "output_type": "execute_result"
    }
   ],
   "source": [
    "# Train\n",
    "train = pd.read_csv(\"./twitter_training.csv\", header=None)\n",
    "train.rename(columns={0:'tweet_id', 1:'entity', 2:'sentiment', 3:'tweet'},inplace=True)\n",
    "train = train.dropna().reset_index(drop=True)\n",
    "\n",
    "# Val\n",
    "val = pd.read_csv(\"./twitter_validation.csv\", header=None)\n",
    "val.rename(columns={0:'tweet_id', 1:'entity', 2:'sentiment', 3:'tweet'},inplace=True)\n",
    "val_id = val['tweet_id']\n",
    "\n",
    "df = pd.concat([train, val],axis=0).reset_index(drop=True)\n",
    "\n",
    "### EDA on unique tweets\n",
    "df = df.groupby(\"tweet_id\").head(1).reset_index(drop=True)\n",
    "df"
   ]
  },
  {
   "cell_type": "markdown",
   "id": "9f63a331",
   "metadata": {},
   "source": [
    "# Sentiment Distribution among all tweets\n",
    "\n",
    "- Most common Sentiment among all tweets?"
   ]
  },
  {
   "cell_type": "code",
   "execution_count": 3,
   "id": "27ce986c",
   "metadata": {},
   "outputs": [
    {
     "name": "stderr",
     "output_type": "stream",
     "text": [
      "/Library/Frameworks/Python.framework/Versions/3.8/lib/python3.8/site-packages/seaborn/_decorators.py:36: FutureWarning: Pass the following variable as a keyword arg: x. From version 0.12, the only valid positional argument will be `data`, and passing other arguments without an explicit keyword will result in an error or misinterpretation.\n",
      "  warnings.warn(\n"
     ]
    },
    {
     "data": {
      "image/png": "[encoded data removed]",
      "text/plain": [
       "<Figure size 720x432 with 1 Axes>"
      ]
     },
     "metadata": {
      "needs_background": "light"
     },
     "output_type": "display_data"
    }
   ],
   "source": [
    "plt.figure(figsize=(10,6))\n",
    "\n",
    "ax = sns.countplot(df[\"sentiment\"], hue=df[\"sentiment\"],\n",
    "                   order = df[\"sentiment\"].value_counts().index)\n",
    "\n",
    "for container in ax.containers:\n",
    "    ax.bar_label(container)\n",
    "    \n",
    "a=ax.legend()"
   ]
  },
  {
   "cell_type": "markdown",
   "id": "3e5d8840",
   "metadata": {},
   "source": [
    "Most tweets in this dataset are **Negative** followed closely **Positive**"
   ]
  },
  {
   "cell_type": "markdown",
   "id": "c8ab4ac9",
   "metadata": {},
   "source": [
    "# Entity Distribution among all tweets"
   ]
  },
  {
   "cell_type": "markdown",
   "id": "45cb6f57",
   "metadata": {},
   "source": [
    "- Which topic was most discussed?"
   ]
  },
  {
   "cell_type": "code",
   "execution_count": 7,
   "id": "9fa141ae",
   "metadata": {
    "scrolled": false
   },
   "outputs": [
    {
     "data": {
      "image/png": "[encoded data removed]",
      "text/plain": [
       "<Figure size 900x360 with 1 Axes>"
      ]
     },
     "metadata": {
      "needs_background": "light"
     },
     "output_type": "display_data"
    }
   ],
   "source": [
    "ax = sns.catplot(data=df, x=\"entity\", kind=\"count\", aspect=2.5)\n",
    "a = plt.xticks(\n",
    "    rotation=45, \n",
    "    horizontalalignment='right',\n",
    "    fontsize='large'  \n",
    ")"
   ]
  },
  {
   "cell_type": "markdown",
   "id": "2120103d",
   "metadata": {},
   "source": [
    "### Top 10 Topics"
   ]
  },
  {
   "cell_type": "code",
   "execution_count": 23,
   "id": "8e39cead",
   "metadata": {},
   "outputs": [
    {
     "data": {
      "text/html": [
       "<div>\n",
       "<style scoped>\n",
       "    .dataframe tbody tr th:only-of-type {\n",
       "        vertical-align: middle;\n",
       "    }\n",
       "\n",
       "    .dataframe tbody tr th {\n",
       "        vertical-align: top;\n",
       "    }\n",
       "\n",
       "    .dataframe thead th {\n",
       "        text-align: right;\n",
       "    }\n",
       "</style>\n",
       "<table border=\"1\" class=\"dataframe\">\n",
       "  <thead>\n",
       "    <tr style=\"text-align: right;\">\n",
       "      <th></th>\n",
       "      <th># of Tweets</th>\n",
       "    </tr>\n",
       "  </thead>\n",
       "  <tbody>\n",
       "    <tr>\n",
       "      <th>TomClancysRainbowSix</th>\n",
       "      <td>400</td>\n",
       "    </tr>\n",
       "    <tr>\n",
       "      <th>MaddenNFL</th>\n",
       "      <td>400</td>\n",
       "    </tr>\n",
       "    <tr>\n",
       "      <th>Microsoft</th>\n",
       "      <td>400</td>\n",
       "    </tr>\n",
       "    <tr>\n",
       "      <th>LeagueOfLegends</th>\n",
       "      <td>399</td>\n",
       "    </tr>\n",
       "    <tr>\n",
       "      <th>CallOfDuty</th>\n",
       "      <td>399</td>\n",
       "    </tr>\n",
       "    <tr>\n",
       "      <th>Verizon</th>\n",
       "      <td>397</td>\n",
       "    </tr>\n",
       "    <tr>\n",
       "      <th>CallOfDutyBlackopsColdWar</th>\n",
       "      <td>396</td>\n",
       "    </tr>\n",
       "    <tr>\n",
       "      <th>ApexLegends</th>\n",
       "      <td>396</td>\n",
       "    </tr>\n",
       "    <tr>\n",
       "      <th>Facebook</th>\n",
       "      <td>395</td>\n",
       "    </tr>\n",
       "    <tr>\n",
       "      <th>WorldOfCraft</th>\n",
       "      <td>394</td>\n",
       "    </tr>\n",
       "  </tbody>\n",
       "</table>\n",
       "</div>"
      ],
      "text/plain": [
       "                           # of Tweets\n",
       "TomClancysRainbowSix               400\n",
       "MaddenNFL                          400\n",
       "Microsoft                          400\n",
       "LeagueOfLegends                    399\n",
       "CallOfDuty                         399\n",
       "Verizon                            397\n",
       "CallOfDutyBlackopsColdWar          396\n",
       "ApexLegends                        396\n",
       "Facebook                           395\n",
       "WorldOfCraft                       394"
      ]
     },
     "execution_count": 23,
     "metadata": {},
     "output_type": "execute_result"
    }
   ],
   "source": [
    "topics = pd.DataFrame({'# of Tweets':df.entity.value_counts()}).head(10)\n",
    "topics"
   ]
  },
  {
   "cell_type": "markdown",
   "id": "2809edc7",
   "metadata": {},
   "source": [
    "**Games** and **Social Media** are topics most discussed in this dataset"
   ]
  },
  {
   "cell_type": "markdown",
   "id": "36ccc8c6",
   "metadata": {},
   "source": [
    "### Most common Tweet Sentiment  (Topic Wise)"
   ]
  },
  {
   "cell_type": "code",
   "execution_count": 59,
   "id": "d9bea41d",
   "metadata": {
    "scrolled": false
   },
   "outputs": [],
   "source": [
    "most_common_sentiment = []\n",
    "for i in topics.index:\n",
    "    most_common_sentiment.append(df[df.entity==i]['sentiment'].value_counts().idxmax())"
   ]
  },
  {
   "cell_type": "code",
   "execution_count": 63,
   "id": "8a3dd6f6",
   "metadata": {},
   "outputs": [
    {
     "data": {
      "text/html": [
       "<div>\n",
       "<style scoped>\n",
       "    .dataframe tbody tr th:only-of-type {\n",
       "        vertical-align: middle;\n",
       "    }\n",
       "\n",
       "    .dataframe tbody tr th {\n",
       "        vertical-align: top;\n",
       "    }\n",
       "\n",
       "    .dataframe thead th {\n",
       "        text-align: right;\n",
       "    }\n",
       "</style>\n",
       "<table border=\"1\" class=\"dataframe\">\n",
       "  <thead>\n",
       "    <tr style=\"text-align: right;\">\n",
       "      <th></th>\n",
       "      <th>entity</th>\n",
       "      <th># of Tweets</th>\n",
       "      <th>Most Common Sentiment</th>\n",
       "    </tr>\n",
       "  </thead>\n",
       "  <tbody>\n",
       "    <tr>\n",
       "      <th>0</th>\n",
       "      <td>TomClancysRainbowSix</td>\n",
       "      <td>400</td>\n",
       "      <td>Negative</td>\n",
       "    </tr>\n",
       "    <tr>\n",
       "      <th>1</th>\n",
       "      <td>MaddenNFL</td>\n",
       "      <td>400</td>\n",
       "      <td>Negative</td>\n",
       "    </tr>\n",
       "    <tr>\n",
       "      <th>2</th>\n",
       "      <td>Microsoft</td>\n",
       "      <td>400</td>\n",
       "      <td>Neutral</td>\n",
       "    </tr>\n",
       "    <tr>\n",
       "      <th>3</th>\n",
       "      <td>LeagueOfLegends</td>\n",
       "      <td>399</td>\n",
       "      <td>Neutral</td>\n",
       "    </tr>\n",
       "    <tr>\n",
       "      <th>4</th>\n",
       "      <td>CallOfDuty</td>\n",
       "      <td>399</td>\n",
       "      <td>Negative</td>\n",
       "    </tr>\n",
       "    <tr>\n",
       "      <th>5</th>\n",
       "      <td>Verizon</td>\n",
       "      <td>397</td>\n",
       "      <td>Negative</td>\n",
       "    </tr>\n",
       "    <tr>\n",
       "      <th>6</th>\n",
       "      <td>CallOfDutyBlackopsColdWar</td>\n",
       "      <td>396</td>\n",
       "      <td>Positive</td>\n",
       "    </tr>\n",
       "    <tr>\n",
       "      <th>7</th>\n",
       "      <td>ApexLegends</td>\n",
       "      <td>396</td>\n",
       "      <td>Neutral</td>\n",
       "    </tr>\n",
       "    <tr>\n",
       "      <th>8</th>\n",
       "      <td>Facebook</td>\n",
       "      <td>395</td>\n",
       "      <td>Neutral</td>\n",
       "    </tr>\n",
       "    <tr>\n",
       "      <th>9</th>\n",
       "      <td>WorldOfCraft</td>\n",
       "      <td>394</td>\n",
       "      <td>Neutral</td>\n",
       "    </tr>\n",
       "  </tbody>\n",
       "</table>\n",
       "</div>"
      ],
      "text/plain": [
       "                      entity  # of Tweets Most Common Sentiment\n",
       "0       TomClancysRainbowSix          400              Negative\n",
       "1                  MaddenNFL          400              Negative\n",
       "2                  Microsoft          400               Neutral\n",
       "3            LeagueOfLegends          399               Neutral\n",
       "4                 CallOfDuty          399              Negative\n",
       "5                    Verizon          397              Negative\n",
       "6  CallOfDutyBlackopsColdWar          396              Positive\n",
       "7                ApexLegends          396               Neutral\n",
       "8                   Facebook          395               Neutral\n",
       "9               WorldOfCraft          394               Neutral"
      ]
     },
     "execution_count": 63,
     "metadata": {},
     "output_type": "execute_result"
    }
   ],
   "source": [
    "topics = pd.DataFrame({'# of Tweets':df.entity.value_counts().head(10), 'Most Common Sentiment': most_common_sentiment}).head(10)\n",
    "topics = topics.reset_index().rename(columns={'index':'entity'}) \n",
    "topics"
   ]
  }
 ],
 "metadata": {
  "kernelspec": {
   "display_name": "nlp",
   "language": "python",
   "name": "nlp"
  },
  "language_info": {
   "codemirror_mode": {
    "name": "ipython",
    "version": 3
   },
   "file_extension": ".py",
   "mimetype": "text/x-python",
   "name": "python",
   "nbconvert_exporter": "python",
   "pygments_lexer": "ipython3",
   "version": "3.8.6"
  }
 },
 "nbformat": 4,
 "nbformat_minor": 5
}
